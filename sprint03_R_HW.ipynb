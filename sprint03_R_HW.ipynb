{
  "nbformat": 4,
  "nbformat_minor": 0,
  "metadata": {
    "colab": {
      "provenance": [],
      "toc_visible": true,
      "authorship_tag": "ABX9TyPw2x0vVBCufQcOxMzVCVDk",
      "include_colab_link": true
    },
    "kernelspec": {
      "name": "ir",
      "display_name": "R"
    },
    "language_info": {
      "name": "R"
    }
  },
  "cells": [
    {
      "cell_type": "markdown",
      "metadata": {
        "id": "view-in-github",
        "colab_type": "text"
      },
      "source": [
        "<a href=\"https://colab.research.google.com/github/PTharaksa/HW-datarockie/blob/main/sprint03_R_HW.ipynb\" target=\"_parent\"><img src=\"https://colab.research.google.com/assets/colab-badge.svg\" alt=\"Open In Colab\"/></a>"
      ]
    },
    {
      "cell_type": "markdown",
      "source": [
        "#Rock Paper Scissors\n"
      ],
      "metadata": {
        "id": "j9Z91eKlhjuk"
      }
    },
    {
      "cell_type": "code",
      "source": [
        "user_input <- function() {\n",
        "  user = readline()\n",
        "  cat('Enter your choice (Rock/Paper/Scissors/Quit): ', user, '\\n')\n",
        "  return(user)\n",
        "}"
      ],
      "metadata": {
        "id": "ZEgHCl1qhr4o"
      },
      "execution_count": null,
      "outputs": []
    },
    {
      "cell_type": "code",
      "source": [
        "comp_input <- function() {\n",
        "  input <- c(\"Rock\", \"Paper\", \"Scissors\")\n",
        "  comp = sample(input,1)\n",
        "  cat('Computer chose:', comp, '\\n')\n",
        "  return(comp)\n",
        "}"
      ],
      "metadata": {
        "id": "CqvfHS5xkRP_"
      },
      "execution_count": null,
      "outputs": []
    },
    {
      "cell_type": "code",
      "source": [
        "score_count <- function() {\n",
        "  user <- user_input()\n",
        "  com <- comp_input()\n",
        "  score <- 0\n",
        "  if (user == com) {\n",
        "    print('Tired!')\n",
        "    score <- score + 0\n",
        "  }\n",
        "  else if ((user == \"Scissors\" & com == \"Paper\") | (user == \"Paper\" & com == \"Rock\")) {\n",
        "    print(\"You win!\")\n",
        "    score <- score + 1\n",
        "  }\n",
        "  else if ((user == \"Rock\" & com == \"Paper\") | (user == \"Paper\" & com == \"Scissors\")) {\n",
        "    print(\"You lose\")\n",
        "    score <- score + 0\n",
        "  }\n",
        "  else if (user == \"Quit\") {\n",
        "    return(NULL)\n",
        "  }\n",
        "  return(score)\n",
        "}"
      ],
      "metadata": {
        "id": "zTAoGiOYisEh"
      },
      "execution_count": null,
      "outputs": []
    },
    {
      "cell_type": "code",
      "source": [
        "game <- function() {\n",
        "  total_score <- 0\n",
        "  continue <- TRUE\n",
        "  while (continue) {\n",
        "    current_score <- score_count()\n",
        "    if (is.null(current_score)) {\n",
        "      print('Game over. You chose to quit.')\n",
        "      break\n",
        "    }\n",
        "    total_score <- total_score + current_score\n",
        "    cat('Total score:', total_score, '\\n')\n",
        "  }\n",
        "}"
      ],
      "metadata": {
        "id": "WOoW2s77lFaf"
      },
      "execution_count": null,
      "outputs": []
    },
    {
      "cell_type": "code",
      "source": [
        "game()"
      ],
      "metadata": {
        "colab": {
          "base_uri": "https://localhost:8080/"
        },
        "id": "vzeOFwEbYjzb",
        "outputId": "482cdd43-cb13-472f-cfd8-63894e3472d7"
      },
      "execution_count": null,
      "outputs": [
        {
          "output_type": "stream",
          "name": "stdout",
          "text": [
            "Rock\n",
            "Paper\n",
            "Rock\n",
            "Paper\n",
            "Paper\n",
            "Paper\n",
            "Rock\n",
            "Rock\n",
            "Quit\n",
            "Enter your choice (Rock/Paper/Scissors/Quit):  Rock \n",
            "Computer chose: Scissors \n",
            "Total score: 0 \n",
            "Enter your choice (Rock/Paper/Scissors/Quit):  Paper \n",
            "Computer chose: Paper \n",
            "[1] \"Tired!\"\n",
            "Total score: 0 \n",
            "Enter your choice (Rock/Paper/Scissors/Quit):  Rock \n",
            "Computer chose: Scissors \n",
            "Total score: 0 \n",
            "Enter your choice (Rock/Paper/Scissors/Quit):  Paper \n",
            "Computer chose: Paper \n",
            "[1] \"Tired!\"\n",
            "Total score: 0 \n",
            "Enter your choice (Rock/Paper/Scissors/Quit):  Paper \n",
            "Computer chose: Rock \n",
            "[1] \"You win!\"\n",
            "Total score: 1 \n",
            "Enter your choice (Rock/Paper/Scissors/Quit):  Paper \n",
            "Computer chose: Rock \n",
            "[1] \"You win!\"\n",
            "Total score: 2 \n",
            "Enter your choice (Rock/Paper/Scissors/Quit):  Rock \n",
            "Computer chose: Paper \n",
            "[1] \"You lose\"\n",
            "Total score: 2 \n",
            "Enter your choice (Rock/Paper/Scissors/Quit):  Rock \n",
            "Computer chose: Rock \n",
            "[1] \"Tired!\"\n",
            "Total score: 2 \n",
            "Enter your choice (Rock/Paper/Scissors/Quit):  Quit \n",
            "Computer chose: Scissors \n",
            "[1] \"Game over. You chose to quit.\"\n"
          ]
        }
      ]
    },
    {
      "cell_type": "markdown",
      "source": [
        "# Pizza Ordering Chatbot\n"
      ],
      "metadata": {
        "id": "FYs4TiXM8nFl"
      }
    },
    {
      "cell_type": "code",
      "source": [
        "pizza_chatbot <- function() {\n",
        "  flush.console()\n",
        "  cat(\"Enter your name: \")\n",
        "  name <- readline()\n",
        "  cat(\"Welcome \", name, \" to Cat Pizza! What would you like to have?\", \"\\n\", \"type 1: for menu\" , \"\\n\", \"type 2: to order\", \"\\n\")\n",
        "  user_input <- readline()\n",
        "  if (user_input == 1) {\n",
        "    cat(\"Our main dishes are sold in a combo set: \", \"\\n\", \"SET A: 2 Fried Chickens and Pizza\", \"\\n\", \"SET B: Fried and Pizza\", \"\\n\", \"SET C: Pasta and Pizza\", \"\\n\")\n",
        "    cat(\"Moreover, we have a choice for people who want a single dish: \", \"\\n\", \"Hawaiian Pizza\", \"\\n\", \"Double Cheese Pizza\", \"\\n\", \"Double Pepperoni Pizza\", \"\\n\", \"Pasta\", \"\\n\", \"Fried Chicken\", \"\\n\")\n",
        "  }\n",
        "  else if (user_input == 2) {\n",
        "    order <- readline()\n",
        "    cat(\"You are ordering: \", order, \"\\n\")\n",
        "    address <- readline()\n",
        "    cat(\"This is your address:\" , address, \"\\n\")\n",
        "    phone <- readline()\n",
        "    cat(\"This is your phone number:\" , phone)\n",
        "  }\n",
        "}"
      ],
      "metadata": {
        "id": "6XlszJgf8tDy"
      },
      "execution_count": null,
      "outputs": []
    },
    {
      "cell_type": "code",
      "source": [
        "pizza_chatbot()"
      ],
      "metadata": {
        "id": "_nQ85XjQId1u"
      },
      "execution_count": null,
      "outputs": []
    }
  ]
}